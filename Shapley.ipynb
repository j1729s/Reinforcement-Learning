{
 "cells": [
  {
   "cell_type": "markdown",
   "id": "b73ffd50-f9a3-4f96-a3d9-847a2f5cca4a",
   "metadata": {},
   "source": [
    "### Monte Carlo Sampling"
   ]
  },
  {
   "cell_type": "markdown",
   "id": "476f46a9-1ba4-47fc-a757-49daa2ba9146",
   "metadata": {},
   "source": [
    "#### Importing Required Packages"
   ]
  },
  {
   "cell_type": "code",
   "execution_count": 1,
   "id": "ac322c79-9b09-43e8-967a-0a16beffdf30",
   "metadata": {},
   "outputs": [],
   "source": [
    "import numpy as np\n",
    "import pandas as pd\n",
    "from itertools import permutations\n",
    "from collections import defaultdict\n",
    "from random import shuffle\n",
    "from fractions import Fraction\n",
    "from time import perf_counter\n",
    "import matplotlib.pyplot as plt\n",
    "%matplotlib inline"
   ]
  },
  {
   "cell_type": "markdown",
   "id": "555094f6-cb2a-415b-ab6f-3dcb7f0ffb9c",
   "metadata": {},
   "source": [
    "#### Calculating Shapley Values"
   ]
  },
  {
   "cell_type": "markdown",
   "id": "fda9c34d-e004-457c-9643-1bc06dd5c98b",
   "metadata": {},
   "source": [
    "This script defines a function game that returns the sum of a list of players. It then generates num_samples random subsets of the players, calculates the marginal contribution of each player in each subset, and averages these contributions to estimate the player's Shapley value. Ihave assumed that the players are numbered and their fare corresponds to their numbers. Therefore, we have satisfied the requirements of the game."
   ]
  },
  {
   "cell_type": "markdown",
   "id": "f5614e36-62b6-4188-bf86-237213480735",
   "metadata": {},
   "source": [
    "#### 50 Players:"
   ]
  },
  {
   "cell_type": "code",
   "execution_count": 2,
   "id": "485daa60-0fae-46b6-bac0-c2d986c6a29e",
   "metadata": {},
   "outputs": [],
   "source": [
    "\"\"\"Find the shapely value for members of a colation, either exactly or with a monte-carlo approximation.\"\"\"\n",
    "# The shapely value for each player is the marginal value added by the player for joining the coalition,\n",
    "# averaged over all possible permutaions of players joining. Since the number of permutations is the\n",
    "# factorial of the number of players, unless the number of players is small we will have to settle for an approximate\n",
    "# solution based on a random subset\n",
    "\n",
    "def exact(players, fun):\n",
    "    \"\"\"\n",
    "    Find the exact shapely values. Players is an iterable, fun is a function that takes a tuple\n",
    "    of players as its parameter and returns a dict of values for that permutation.\n",
    "    \"\"\"\n",
    "    values = {}\n",
    "    count = 0\n",
    "    for perm in permutations(players):\n",
    "        val = fun(perm)\n",
    "        count += 1\n",
    "        for player in val:\n",
    "            if player in values:\n",
    "                values[player] += val[player]\n",
    "            else:\n",
    "                values[player] = val[player]\n",
    "    for player in players:\n",
    "        values[player] /= count\n",
    "    return values\n",
    "\n",
    "def exact_fraction(players, fun):\n",
    "    \"\"\"\n",
    "    Same as exact, except it retruns values as fractions rather than floats.\n",
    "    The value function should always return integer values for this to be even remotely useful.\n",
    "    \"\"\"\n",
    "    values = defaultdict(int)\n",
    "    count = 0\n",
    "    for perm in permutations(players):\n",
    "        val = fun(perm)\n",
    "        count += 1\n",
    "        for player in val:\n",
    "            values[player] += val[player]\n",
    "    for player in players:\n",
    "        values[player] = Fraction(values[player], count)\n",
    "    return dict(values)\n",
    "\n",
    "\n",
    "def monte_carlo(players, fun, num):\n",
    "    \"\"\"\n",
    "    Find the monte carlo approximation using n tries. \n",
    "    \"\"\"\n",
    "    values = {}\n",
    "    count = 0\n",
    "    perm = list(players)\n",
    "    for ii in range(num):\n",
    "        shuffle(perm)\n",
    "        val = fun(perm)\n",
    "        count += 1\n",
    "        for player in val:\n",
    "            if player in values:\n",
    "                values[player] += val[player]\n",
    "            else:\n",
    "                values[player] = val[player]\n",
    "    for player in players:\n",
    "        values[player] /= count     \n",
    "    return values\n",
    "\n",
    "def rideshare_vals(perm):\n",
    "    \"\"\"\n",
    "    Function that takes a tuple of players as its parameter and returns a dict of values for that permutation.\n",
    "    \"\"\"\n",
    "    sofar = 0\n",
    "    vals = {}\n",
    "    for player in perm:\n",
    "        if player > sofar:\n",
    "            vals[player] = player - sofar\n",
    "            sofar = player\n",
    "        else:\n",
    "            vals[player] = 0\n",
    "    return vals\n",
    "\n",
    "def player_list(num):\n",
    "    \"\"\"\n",
    "    Generates a player list based on the number of players\n",
    "    \"\"\"\n",
    "    lst = [i for i in range(1, num+1)]\n",
    "    return lst\n",
    "        "
   ]
  },
  {
   "cell_type": "markdown",
   "id": "2679419e-8bb9-4618-98e0-dd4b68d1d0a8",
   "metadata": {},
   "source": [
    "#### 4 Players:"
   ]
  },
  {
   "cell_type": "code",
   "execution_count": 3,
   "id": "3c976607-5d7a-4f7c-a9a8-bf49c63119c5",
   "metadata": {},
   "outputs": [],
   "source": [
    "n = 4"
   ]
  },
  {
   "cell_type": "markdown",
   "id": "7655e710-b397-4369-8c39-ded20d133fb3",
   "metadata": {},
   "source": [
    "Exact value and fraction:"
   ]
  },
  {
   "cell_type": "code",
   "execution_count": 4,
   "id": "dddd42e6-3497-44e0-9883-4960651bd7f7",
   "metadata": {},
   "outputs": [
    {
     "name": "stdout",
     "output_type": "stream",
     "text": [
      "{1: 0.25, 2: 0.5833333333333334, 3: 1.0833333333333333, 4: 2.0833333333333335}\n"
     ]
    }
   ],
   "source": [
    "print(exact(player_list(n), rideshare_vals))"
   ]
  },
  {
   "cell_type": "code",
   "execution_count": 5,
   "id": "6066b2a7-c555-4acc-8594-9a39f446632e",
   "metadata": {},
   "outputs": [
    {
     "name": "stdout",
     "output_type": "stream",
     "text": [
      "{1: Fraction(1, 4), 2: Fraction(7, 12), 3: Fraction(13, 12), 4: Fraction(25, 12)}\n"
     ]
    }
   ],
   "source": [
    "print(exact_fraction(player_list(n), rideshare_vals))"
   ]
  },
  {
   "cell_type": "markdown",
   "id": "09336067-c638-4eb5-ad41-aea4e19ba2e6",
   "metadata": {},
   "source": [
    "Monte Carlo Approximation:"
   ]
  },
  {
   "cell_type": "code",
   "execution_count": 6,
   "id": "276912b6-86c8-4857-b359-1c997b1729dc",
   "metadata": {},
   "outputs": [],
   "source": [
    "N = 1000"
   ]
  },
  {
   "cell_type": "code",
   "execution_count": 7,
   "id": "36f4d872-fe57-4e1d-973e-31efe7ed77fd",
   "metadata": {},
   "outputs": [
    {
     "name": "stdout",
     "output_type": "stream",
     "text": [
      "{1: 0.238, 4: 2.069, 3: 1.12, 2: 0.573}\n"
     ]
    }
   ],
   "source": [
    "print(monte_carlo(player_list(n), rideshare_vals, N))"
   ]
  },
  {
   "cell_type": "code",
   "execution_count": 8,
   "id": "fc46b7e5-58be-4f70-b9c4-1baff88b52d2",
   "metadata": {},
   "outputs": [],
   "source": [
    "N = 10000"
   ]
  },
  {
   "cell_type": "code",
   "execution_count": 9,
   "id": "46ddd40b-551b-4e9b-b84c-207260780bb8",
   "metadata": {},
   "outputs": [
    {
     "name": "stdout",
     "output_type": "stream",
     "text": [
      "{2: 0.5838, 3: 1.0856, 4: 2.078, 1: 0.2526}\n"
     ]
    }
   ],
   "source": [
    "print(monte_carlo(player_list(n), rideshare_vals, N))"
   ]
  },
  {
   "cell_type": "code",
   "execution_count": 10,
   "id": "6dc3c212-b508-474a-943f-c5689db3ca51",
   "metadata": {},
   "outputs": [],
   "source": [
    "N = 100000"
   ]
  },
  {
   "cell_type": "code",
   "execution_count": 11,
   "id": "37701206-20e6-45d6-9a91-0da6a9f4d618",
   "metadata": {},
   "outputs": [
    {
     "name": "stdout",
     "output_type": "stream",
     "text": [
      "{2: 0.58142, 4: 2.08175, 3: 1.08696, 1: 0.24987}\n"
     ]
    }
   ],
   "source": [
    "print(monte_carlo(player_list(n), rideshare_vals, N))"
   ]
  },
  {
   "cell_type": "markdown",
   "id": "7fa3becc-1143-4053-b07a-6b37f93f0de9",
   "metadata": {},
   "source": [
    "We see as the number of iterations increase so does the accuracy of our estimate."
   ]
  },
  {
   "cell_type": "markdown",
   "id": "15645691-6606-49ad-b9ca-256c0cc78a26",
   "metadata": {},
   "source": [
    "#### 50 Players:"
   ]
  },
  {
   "cell_type": "code",
   "execution_count": 12,
   "id": "3a082813-9c3a-4593-93f9-26f34345c63f",
   "metadata": {},
   "outputs": [],
   "source": [
    "n = 5"
   ]
  },
  {
   "cell_type": "markdown",
   "id": "5be21394-3d77-488f-a263-e5f8fcc92f72",
   "metadata": {},
   "source": [
    "Exact value and time taken:"
   ]
  },
  {
   "cell_type": "code",
   "execution_count": 13,
   "id": "96ed9797-1fd8-499f-84b2-c7c00ed0c523",
   "metadata": {},
   "outputs": [
    {
     "name": "stdout",
     "output_type": "stream",
     "text": [
      "{1: 0.2, 2: 0.45, 3: 0.7833333333333333, 4: 1.2833333333333334, 5: 2.283333333333333}\n",
      "Time Taken: 0.00338s\n"
     ]
    }
   ],
   "source": [
    "t1 = perf_counter()\n",
    "print(exact(player_list(n), rideshare_vals))\n",
    "t2 = perf_counter()\n",
    "print('Time Taken: {}s'.format(round(t2-t1, 5)))"
   ]
  },
  {
   "cell_type": "code",
   "execution_count": 14,
   "id": "98f20f6f-d593-4b0c-9fe2-90ca95820a9e",
   "metadata": {},
   "outputs": [
    {
     "name": "stdout",
     "output_type": "stream",
     "text": [
      "{1: Fraction(1, 5), 2: Fraction(9, 20), 3: Fraction(47, 60), 4: Fraction(77, 60), 5: Fraction(137, 60)}\n"
     ]
    }
   ],
   "source": [
    "print(exact_fraction(player_list(n), rideshare_vals))"
   ]
  },
  {
   "cell_type": "code",
   "execution_count": 15,
   "id": "3c5770bd-2099-4a7d-b03e-2572f3fe9567",
   "metadata": {},
   "outputs": [],
   "source": [
    "n = 10"
   ]
  },
  {
   "cell_type": "markdown",
   "id": "c9d06857-96db-4417-a840-ff4a53ebf1af",
   "metadata": {},
   "source": [
    "Exact value and time taken:"
   ]
  },
  {
   "cell_type": "code",
   "execution_count": 16,
   "id": "f8e18d48-93a0-4a7b-8d48-ef0389d3b8f6",
   "metadata": {},
   "outputs": [
    {
     "name": "stdout",
     "output_type": "stream",
     "text": [
      "{1: 0.1, 2: 0.2111111111111111, 3: 0.33611111111111114, 4: 0.478968253968254, 5: 0.6456349206349207, 6: 0.8456349206349206, 7: 1.0956349206349207, 8: 1.428968253968254, 9: 1.928968253968254, 10: 2.9289682539682538}\n",
      "Time Taken: 35.98737s\n"
     ]
    }
   ],
   "source": [
    "t1 = perf_counter()\n",
    "print(exact(player_list(n), rideshare_vals))\n",
    "t2 = perf_counter()\n",
    "print('Time Taken: {}s'.format(round(t2-t1, 5)))"
   ]
  },
  {
   "cell_type": "code",
   "execution_count": 17,
   "id": "785aa23b-5989-4f83-bc76-a5f399610375",
   "metadata": {},
   "outputs": [],
   "source": [
    "n = 11"
   ]
  },
  {
   "cell_type": "markdown",
   "id": "8b0550b8-aa1f-46fa-b9ef-1967bbe104e6",
   "metadata": {},
   "source": [
    "Exact value and time taken:"
   ]
  },
  {
   "cell_type": "code",
   "execution_count": 18,
   "id": "7fca87a9-f6c1-4775-9e0d-c1b8d1e49aa5",
   "metadata": {},
   "outputs": [
    {
     "name": "stdout",
     "output_type": "stream",
     "text": [
      "{1: 0.09090909090909091, 2: 0.19090909090909092, 3: 0.302020202020202, 4: 0.427020202020202, 5: 0.5698773448773449, 6: 0.7365440115440115, 7: 0.9365440115440116, 8: 1.1865440115440116, 9: 1.5198773448773448, 10: 2.019877344877345, 11: 3.019877344877345}\n",
      "Time Taken: 467.50591s\n"
     ]
    }
   ],
   "source": [
    "t1 = perf_counter()\n",
    "print(exact(player_list(n), rideshare_vals))\n",
    "t2 = perf_counter()\n",
    "print('Time Taken: {}s'.format(round(t2-t1, 5)))"
   ]
  },
  {
   "cell_type": "markdown",
   "id": "d26c4410-55ee-4c13-88bd-5cb6522d9ae1",
   "metadata": {},
   "source": [
    "We see an exponential increase in computation time. So we must compute an estimate like the Monte Carlo method."
   ]
  },
  {
   "cell_type": "code",
   "execution_count": 19,
   "id": "d6b35c2f-4d4b-4756-b489-99c1e515a22d",
   "metadata": {},
   "outputs": [],
   "source": [
    "n = 50\n",
    "N = 1000000"
   ]
  },
  {
   "cell_type": "code",
   "execution_count": 20,
   "id": "31e76657-83ec-412b-8a6c-b0c393dc0daf",
   "metadata": {},
   "outputs": [
    {
     "name": "stdout",
     "output_type": "stream",
     "text": [
      "Player 1: 0.019914\n",
      "Player 2: 0.040123\n",
      "Player 3: 0.06149\n",
      "Player 4: 0.082719\n",
      "Player 5: 0.10361\n",
      "Player 6: 0.127212\n",
      "Player 7: 0.147943\n",
      "Player 8: 0.171315\n",
      "Player 9: 0.196939\n",
      "Player 10: 0.221049\n",
      "Player 11: 0.243994\n",
      "Player 12: 0.267959\n",
      "Player 13: 0.296853\n",
      "Player 14: 0.322588\n",
      "Player 15: 0.353767\n",
      "Player 16: 0.37956\n",
      "Player 17: 0.41116\n",
      "Player 18: 0.441213\n",
      "Player 19: 0.476417\n",
      "Player 20: 0.510022\n",
      "Player 21: 0.537051\n",
      "Player 22: 0.572387\n",
      "Player 23: 0.602718\n",
      "Player 24: 0.644528\n",
      "Player 25: 0.687399\n",
      "Player 26: 0.726086\n",
      "Player 27: 0.765489\n",
      "Player 28: 0.809488\n",
      "Player 29: 0.852572\n",
      "Player 30: 0.90161\n",
      "Player 31: 0.949315\n",
      "Player 32: 1.006317\n",
      "Player 33: 1.061851\n",
      "Player 34: 1.119388\n",
      "Player 35: 1.182289\n",
      "Player 36: 1.243772\n",
      "Player 37: 1.328159\n",
      "Player 38: 1.388127\n",
      "Player 39: 1.478346\n",
      "Player 40: 1.564934\n",
      "Player 41: 1.671618\n",
      "Player 42: 1.778165\n",
      "Player 43: 1.916369\n",
      "Player 44: 2.047775\n",
      "Player 45: 2.201853\n",
      "Player 46: 2.419449\n",
      "Player 47: 2.66584\n",
      "Player 48: 2.996596\n",
      "Player 49: 3.497949\n",
      "Player 50: 4.506713\n"
     ]
    }
   ],
   "source": [
    "for key, value in sorted(monte_carlo(player_list(n), rideshare_vals, N).items()):\n",
    "    print('Player {}: {}'.format(key, value))"
   ]
  },
  {
   "cell_type": "markdown",
   "id": "60180f48-c01d-49e8-8695-fc575600a849",
   "metadata": {},
   "source": [
    "We know that the contribution of the first player should be $\\frac{1}{n}$ which is pretty close to our estimate."
   ]
  },
  {
   "cell_type": "code",
   "execution_count": 21,
   "id": "9896bf52-8e23-49a4-82ee-a4bb595fa26c",
   "metadata": {},
   "outputs": [
    {
     "data": {
      "text/html": [
       "<div>\n",
       "<style scoped>\n",
       "    .dataframe tbody tr th:only-of-type {\n",
       "        vertical-align: middle;\n",
       "    }\n",
       "\n",
       "    .dataframe tbody tr th {\n",
       "        vertical-align: top;\n",
       "    }\n",
       "\n",
       "    .dataframe thead th {\n",
       "        text-align: right;\n",
       "    }\n",
       "</style>\n",
       "<table border=\"1\" class=\"dataframe\">\n",
       "  <thead>\n",
       "    <tr style=\"text-align: right;\">\n",
       "      <th></th>\n",
       "      <th>Error Percent</th>\n",
       "      <th>Runtime (s)</th>\n",
       "    </tr>\n",
       "  </thead>\n",
       "  <tbody>\n",
       "    <tr>\n",
       "      <th>100 Iterations</th>\n",
       "      <td>65.0000</td>\n",
       "      <td>0.01295</td>\n",
       "    </tr>\n",
       "    <tr>\n",
       "      <th>1000 Iterations</th>\n",
       "      <td>20.7500</td>\n",
       "      <td>0.13525</td>\n",
       "    </tr>\n",
       "    <tr>\n",
       "      <th>10000 Iterations</th>\n",
       "      <td>5.8750</td>\n",
       "      <td>1.34615</td>\n",
       "    </tr>\n",
       "    <tr>\n",
       "      <th>100000 Iterations</th>\n",
       "      <td>1.2700</td>\n",
       "      <td>13.46360</td>\n",
       "    </tr>\n",
       "    <tr>\n",
       "      <th>1000000 Iterations</th>\n",
       "      <td>0.6045</td>\n",
       "      <td>135.06720</td>\n",
       "    </tr>\n",
       "  </tbody>\n",
       "</table>\n",
       "</div>"
      ],
      "text/plain": [
       "                    Error Percent  Runtime (s)\n",
       "100 Iterations            65.0000      0.01295\n",
       "1000 Iterations           20.7500      0.13525\n",
       "10000 Iterations           5.8750      1.34615\n",
       "100000 Iterations          1.2700     13.46360\n",
       "1000000 Iterations         0.6045    135.06720"
      ]
     },
     "execution_count": 21,
     "metadata": {},
     "output_type": "execute_result"
    }
   ],
   "source": [
    "df1 = pd.DataFrame()\n",
    "n = 50\n",
    "iterations = 20\n",
    "for i in range(0,iterations):\n",
    "    for N in [100, 1000, 10000, 100000, 1000000]:\n",
    "        t1 = perf_counter()\n",
    "        estimate_dict = monte_carlo(player_list(n), rideshare_vals, N)\n",
    "        t2 = perf_counter()\n",
    "        if i>0:\n",
    "            df1.loc[f'{N} Iterations', 'Error Percent'] += abs((1-estimate_dict[1]/0.02))*100\n",
    "            df1.loc[f'{N} Iterations', 'Runtime (s)'] += round(t2-t1, 3)\n",
    "        else:\n",
    "            df1.loc[f'{N} Iterations', 'Error Percent'] = abs((1-estimate_dict[1]/0.02))*100\n",
    "            df1.loc[f'{N} Iterations', 'Runtime (s)'] = round(t2-t1, 3)\n",
    "df1 = df1/iterations\n",
    "df1"
   ]
  },
  {
   "cell_type": "code",
   "execution_count": 22,
   "id": "eb9f009a-48bc-46f5-bf3a-2cbceb9b4554",
   "metadata": {},
   "outputs": [
    {
     "data": {
      "text/plain": [
       "Text(0.5, 1.0, 'Monte Carlo Sampling Error averaged over 20 runs (50 Players)')"
      ]
     },
     "execution_count": 22,
     "metadata": {},
     "output_type": "execute_result"
    },
    {
     "data": {
      "image/png": "[encoded data removed]",
      "text/plain": [
       "<Figure size 1100x500 with 1 Axes>"
      ]
     },
     "metadata": {},
     "output_type": "display_data"
    }
   ],
   "source": [
    "df1['Error Percent'].plot(figsize=(11,5),marker='s',color='r', linestyle='solid')\n",
    "plt.ylabel(\"Error Percent (Average Magnitude)\")\n",
    "plt.title(\"Monte Carlo Sampling Error averaged over 20 runs (50 Players)\")"
   ]
  },
  {
   "cell_type": "code",
   "execution_count": 23,
   "id": "9d51c4da-9cc5-486d-8472-fd31383d7880",
   "metadata": {},
   "outputs": [
    {
     "data": {
      "text/plain": [
       "Text(0.5, 1.0, 'Monte Carlo Sampling Runtime averaged over 20 runs (50 Players)')"
      ]
     },
     "execution_count": 23,
     "metadata": {},
     "output_type": "execute_result"
    },
    {
     "data": {
      "image/png": "[encoded data removed]",
      "text/plain": [
       "<Figure size 1100x500 with 1 Axes>"
      ]
     },
     "metadata": {},
     "output_type": "display_data"
    }
   ],
   "source": [
    "df1['Runtime (s)'].plot(figsize=(11,5),marker='s',color='r', linestyle='solid')\n",
    "plt.ylabel(\"Runtime in seconds\")\n",
    "plt.title(\"Monte Carlo Sampling Runtime averaged over 20 runs (50 Players)\")"
   ]
  },
  {
   "cell_type": "markdown",
   "id": "0e9b78c3-67d5-4d9c-92f7-d50c5b7b29dd",
   "metadata": {},
   "source": [
    "#### 100 Players:"
   ]
  },
  {
   "cell_type": "code",
   "execution_count": 24,
   "id": "ee5aac1c-bc67-4709-bb20-bbb5bc97afec",
   "metadata": {},
   "outputs": [],
   "source": [
    "n = 100\n",
    "N = 1000000"
   ]
  },
  {
   "cell_type": "code",
   "execution_count": 25,
   "id": "b5cdb70c-f35e-49a2-8342-d900a7555d28",
   "metadata": {},
   "outputs": [
    {
     "name": "stdout",
     "output_type": "stream",
     "text": [
      "Player 1: 0.010189\n",
      "Player 2: 0.020146\n",
      "Player 3: 0.030342\n",
      "Player 4: 0.040521\n",
      "Player 5: 0.052039\n",
      "Player 6: 0.061478\n",
      "Player 7: 0.072776\n",
      "Player 8: 0.082866\n",
      "Player 9: 0.093675\n",
      "Player 10: 0.106397\n",
      "Player 11: 0.115598\n",
      "Player 12: 0.125658\n",
      "Player 13: 0.138711\n",
      "Player 14: 0.147513\n",
      "Player 15: 0.161754\n",
      "Player 16: 0.174382\n",
      "Player 17: 0.183124\n",
      "Player 18: 0.197692\n",
      "Player 19: 0.209874\n",
      "Player 20: 0.221576\n",
      "Player 21: 0.237408\n",
      "Player 22: 0.250102\n",
      "Player 23: 0.258654\n",
      "Player 24: 0.268773\n",
      "Player 25: 0.285554\n",
      "Player 26: 0.297126\n",
      "Player 27: 0.313049\n",
      "Player 28: 0.3282\n",
      "Player 29: 0.342047\n",
      "Player 30: 0.35745\n",
      "Player 31: 0.372932\n",
      "Player 32: 0.384663\n",
      "Player 33: 0.400107\n",
      "Player 34: 0.409154\n",
      "Player 35: 0.431697\n",
      "Player 36: 0.450625\n",
      "Player 37: 0.460435\n",
      "Player 38: 0.478731\n",
      "Player 39: 0.489748\n",
      "Player 40: 0.506462\n",
      "Player 41: 0.522002\n",
      "Player 42: 0.547729\n",
      "Player 43: 0.556861\n",
      "Player 44: 0.575458\n",
      "Player 45: 0.591625\n",
      "Player 46: 0.614636\n",
      "Player 47: 0.63016\n",
      "Player 48: 0.65634\n",
      "Player 49: 0.662616\n",
      "Player 50: 0.691633\n",
      "Player 51: 0.711101\n",
      "Player 52: 0.730431\n",
      "Player 53: 0.747431\n",
      "Player 54: 0.76384\n",
      "Player 55: 0.794943\n",
      "Player 56: 0.821423\n",
      "Player 57: 0.848354\n",
      "Player 58: 0.860479\n",
      "Player 59: 0.877259\n",
      "Player 60: 0.899482\n",
      "Player 61: 0.930376\n",
      "Player 62: 0.960747\n",
      "Player 63: 0.992957\n",
      "Player 64: 1.006812\n",
      "Player 65: 1.040131\n",
      "Player 66: 1.067342\n",
      "Player 67: 1.0973\n",
      "Player 68: 1.134521\n",
      "Player 69: 1.163455\n",
      "Player 70: 1.19605\n",
      "Player 71: 1.223183\n",
      "Player 72: 1.258263\n",
      "Player 73: 1.283522\n",
      "Player 74: 1.336611\n",
      "Player 75: 1.372173\n",
      "Player 76: 1.420322\n",
      "Player 77: 1.477419\n",
      "Player 78: 1.487354\n",
      "Player 79: 1.542461\n",
      "Player 80: 1.580875\n",
      "Player 81: 1.627415\n",
      "Player 82: 1.682857\n",
      "Player 83: 1.741101\n",
      "Player 84: 1.789182\n",
      "Player 85: 1.88184\n",
      "Player 86: 1.94979\n",
      "Player 87: 2.003431\n",
      "Player 88: 2.089549\n",
      "Player 89: 2.164433\n",
      "Player 90: 2.249111\n",
      "Player 91: 2.352977\n",
      "Player 92: 2.480086\n",
      "Player 93: 2.603532\n",
      "Player 94: 2.723609\n",
      "Player 95: 2.913156\n",
      "Player 96: 3.117637\n",
      "Player 97: 3.341956\n",
      "Player 98: 3.662608\n",
      "Player 99: 4.207036\n",
      "Player 100: 5.173789\n"
     ]
    }
   ],
   "source": [
    "for key, value in sorted(monte_carlo(player_list(n), rideshare_vals, N).items()):\n",
    "    print('Player {}: {}'.format(key, value))"
   ]
  },
  {
   "cell_type": "code",
   "execution_count": 26,
   "id": "fb4d2fee-3caa-487d-9146-a6a653d72a59",
   "metadata": {},
   "outputs": [
    {
     "data": {
      "text/html": [
       "<div>\n",
       "<style scoped>\n",
       "    .dataframe tbody tr th:only-of-type {\n",
       "        vertical-align: middle;\n",
       "    }\n",
       "\n",
       "    .dataframe tbody tr th {\n",
       "        vertical-align: top;\n",
       "    }\n",
       "\n",
       "    .dataframe thead th {\n",
       "        text-align: right;\n",
       "    }\n",
       "</style>\n",
       "<table border=\"1\" class=\"dataframe\">\n",
       "  <thead>\n",
       "    <tr style=\"text-align: right;\">\n",
       "      <th></th>\n",
       "      <th>Runtime (s)</th>\n",
       "    </tr>\n",
       "  </thead>\n",
       "  <tbody>\n",
       "    <tr>\n",
       "      <th>10 Players</th>\n",
       "      <td>31.042</td>\n",
       "    </tr>\n",
       "    <tr>\n",
       "      <th>20 Players</th>\n",
       "      <td>56.244</td>\n",
       "    </tr>\n",
       "    <tr>\n",
       "      <th>30 Players</th>\n",
       "      <td>81.895</td>\n",
       "    </tr>\n",
       "    <tr>\n",
       "      <th>40 Players</th>\n",
       "      <td>108.960</td>\n",
       "    </tr>\n",
       "    <tr>\n",
       "      <th>50 Players</th>\n",
       "      <td>133.346</td>\n",
       "    </tr>\n",
       "    <tr>\n",
       "      <th>60 Players</th>\n",
       "      <td>160.716</td>\n",
       "    </tr>\n",
       "    <tr>\n",
       "      <th>70 Players</th>\n",
       "      <td>186.664</td>\n",
       "    </tr>\n",
       "    <tr>\n",
       "      <th>80 Players</th>\n",
       "      <td>209.880</td>\n",
       "    </tr>\n",
       "    <tr>\n",
       "      <th>90 Players</th>\n",
       "      <td>242.966</td>\n",
       "    </tr>\n",
       "    <tr>\n",
       "      <th>100 Players</th>\n",
       "      <td>266.652</td>\n",
       "    </tr>\n",
       "  </tbody>\n",
       "</table>\n",
       "</div>"
      ],
      "text/plain": [
       "             Runtime (s)\n",
       "10 Players        31.042\n",
       "20 Players        56.244\n",
       "30 Players        81.895\n",
       "40 Players       108.960\n",
       "50 Players       133.346\n",
       "60 Players       160.716\n",
       "70 Players       186.664\n",
       "80 Players       209.880\n",
       "90 Players       242.966\n",
       "100 Players      266.652"
      ]
     },
     "execution_count": 26,
     "metadata": {},
     "output_type": "execute_result"
    }
   ],
   "source": [
    "N = 1000000\n",
    "df2 = pd.DataFrame()\n",
    "for n in range(10, 101, 10):\n",
    "    t1 = perf_counter()\n",
    "    estimate_dict = monte_carlo(player_list(n), rideshare_vals, N)\n",
    "    t2 = perf_counter()\n",
    "    df2.loc[f'{n} Players', 'Runtime (s)'] = round(t2-t1, 3)\n",
    "df2"
   ]
  },
  {
   "cell_type": "code",
   "execution_count": 27,
   "id": "43ffcfb8-9818-4640-ba81-0f176ee8d3bc",
   "metadata": {},
   "outputs": [
    {
     "data": {
      "text/plain": [
       "Text(0.5, 1.0, 'Monte Carlo Sampling Algorithm Runtime')"
      ]
     },
     "execution_count": 27,
     "metadata": {},
     "output_type": "execute_result"
    },
    {
     "data": {
      "image/png": "[encoded data removed]",
      "text/plain": [
       "<Figure size 1100x500 with 1 Axes>"
      ]
     },
     "metadata": {},
     "output_type": "display_data"
    }
   ],
   "source": [
    "df2['Runtime (s)'].plot(figsize=(11,5),marker='s',color='r', linestyle='solid')\n",
    "plt.ylabel(\"Runtime in seconds\")\n",
    "plt.title(\"Monte Carlo Sampling Algorithm Runtime\")"
   ]
  },
  {
   "cell_type": "code",
   "execution_count": null,
   "id": "b868b106-198f-4399-bb92-65718aeb4db4",
   "metadata": {},
   "outputs": [],
   "source": []
  }
 ],
 "metadata": {
  "kernelspec": {
   "display_name": "Python 3 (ipykernel)",
   "language": "python",
   "name": "python3"
  },
  "language_info": {
   "codemirror_mode": {
    "name": "ipython",
    "version": 3
   },
   "file_extension": ".py",
   "mimetype": "text/x-python",
   "name": "python",
   "nbconvert_exporter": "python",
   "pygments_lexer": "ipython3",
   "version": "3.9.13"
  }
 },
 "nbformat": 4,
 "nbformat_minor": 5
}
